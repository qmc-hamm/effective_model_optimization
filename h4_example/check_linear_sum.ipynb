{
 "cells": [
  {
   "cell_type": "code",
   "execution_count": 12,
   "metadata": {},
   "outputs": [
    {
     "name": "stdout",
     "output_type": "stream",
     "text": [
      "<KeysViewHDF5 ['ai_spectrum_range (Ha)', 'col_ind', 'distance', 'dmd_params', 'iterations', 'loss_loss', 'norm', 'nstates_test', 'nstates_train', 'para_w_0', 'para_w_1', 'penalty', 'rdmd_params', 'row_ind', 'state_ind_for_test', 'termination_message', 'test_cols', 'test_dloss', 'test_loss', 'test_rows', 'test_sloss', 'train', 'train_dloss', 'train_loss', 'train_sloss']>\n",
      "[ 0  1  2  3  4  5  6  7  8  9 10 11 12 13 14 15 16 17 18 19 20 21 22 23\n",
      " 24 25 26 27 28 29 30 31 32 33 34]\n",
      "[0] [0] 54.96537338094199\n",
      "[[7.64212498e-02 7.92110474e-02 4.80874594e-01 ... 7.07291526e+01\n",
      "  8.05172598e+01 8.20862391e+01]\n",
      " [9.13794611e-02 9.26450891e-02 4.72768893e-01 ... 7.03110825e+01\n",
      "  8.00776500e+01 8.16451050e+01]\n",
      " [5.94057903e-01 4.71706553e-01 9.62680874e-02 ... 5.99611488e+01\n",
      "  6.89721540e+01 7.04159921e+01]\n",
      " ...\n",
      " [1.76797300e-01 1.67560800e-01 1.08202806e-01 ... 0.00000000e+00\n",
      "  0.00000000e+00 0.00000000e+00]\n",
      " [1.76797300e-01 1.67560800e-01 1.08202806e-01 ... 0.00000000e+00\n",
      "  0.00000000e+00 0.00000000e+00]\n",
      " [1.76797300e-01 1.67560800e-01 1.08202806e-01 ... 0.00000000e+00\n",
      "  0.00000000e+00 0.00000000e+00]]\n"
     ]
    }
   ],
   "source": [
    "import h5py \n",
    "import numpy as np\n",
    "from scipy.optimize import linear_sum_assignment\n",
    "\n",
    "\n",
    "with h5py.File(\"model_data_6_0.9/E0_t_U_3_r2.4.hdf5\",\"r\") as f:\n",
    "    print(f.keys())\n",
    "    distance = f[\"distance\"][:]\n",
    "    test_states = f[\"state_ind_for_test\"][:]\n",
    "    nroots = 36\n",
    "    col_ind = f[\"col_ind\"][()]\n",
    "\n",
    "print(col_ind)\n",
    "x = np.delete(np.arange(0, nroots), col_ind)\n",
    "dist = distance[test_states][:, x]\n",
    "rows, cols = linear_sum_assignment(dist)\n",
    "\n",
    "test_loss = np.sum(dist[rows, cols])\n",
    "print(rows, cols, test_loss)\n",
    "print(distance)"
   ]
  },
  {
   "cell_type": "code",
   "execution_count": 17,
   "metadata": {},
   "outputs": [
    {
     "name": "stdout",
     "output_type": "stream",
     "text": [
      "[0 1 2 3 4 5] [0 1 2 3 5 4]\n",
      "[0.3100721]\n"
     ]
    }
   ],
   "source": [
    "row_ind, col_ind = linear_sum_assignment(distance)\n",
    "row_ind = row_ind[:6]\n",
    "col_ind = col_ind[:6]\n",
    "print(row_ind, col_ind)\n",
    "print(distance[test_states, col_ind[test_states]])"
   ]
  },
  {
   "cell_type": "code",
   "execution_count": 33,
   "metadata": {},
   "outputs": [
    {
     "data": {
      "image/png": "[encoded data removed]",
      "text/plain": [
       "<Figure size 300x300 with 2 Axes>"
      ]
     },
     "metadata": {},
     "output_type": "display_data"
    }
   ],
   "source": [
    "import matplotlib.pyplot as plt\n",
    "plt.figure(figsize=(3,3))\n",
    "cmap = plt.imshow(distance[0:12,0:12], vmax = 4)\n",
    "plt.scatter(col_ind, row_ind, color = \"red\")\n",
    "plt.colorbar(label = \"$L_{ij}$\")\n",
    "plt.ylabel(\"Ab initio state\")\n",
    "plt.xlabel(\"Model state\")\n",
    "plt.savefig(\"Matching.pdf\", bbox_inches='tight', transparent=True)"
   ]
  },
  {
   "cell_type": "code",
   "execution_count": null,
   "metadata": {},
   "outputs": [],
   "source": []
  }
 ],
 "metadata": {
  "kernelspec": {
   "display_name": "jax",
   "language": "python",
   "name": "python3"
  },
  "language_info": {
   "codemirror_mode": {
    "name": "ipython",
    "version": 3
   },
   "file_extension": ".py",
   "mimetype": "text/x-python",
   "name": "python",
   "nbconvert_exporter": "python",
   "pygments_lexer": "ipython3",
   "version": "3.12.2"
  }
 },
 "nbformat": 4,
 "nbformat_minor": 2
}

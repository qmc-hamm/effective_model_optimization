{
 "cells": [
  {
   "cell_type": "code",
   "execution_count": 11,
   "metadata": {},
   "outputs": [],
   "source": [
    "import h5py\n",
    "import numpy as np\n",
    "import matplotlib.pyplot as plt\n",
    "import pandas as pd"
   ]
  },
  {
   "cell_type": "code",
   "execution_count": 15,
   "metadata": {},
   "outputs": [],
   "source": [
    "with h5py.File(\"data/vcp2_rdm_extrapolated_estimators_data.hdf5\",\"r\") as f:\n",
    "    eigenstates = {'state':[],\n",
    "                   'energies':[], #eV?\n",
    "                   'energies_err':[],\n",
    "                   }\n",
    "\n",
    "    #print(f['eigenstates'].keys())\n",
    "    N = len(f['eigenstates'].keys())\n",
    "    for i in range(N):\n",
    "        eigenstates['state'].append(i)\n",
    "        #print(f['eigenstates'][f'{i}'].keys())\n",
    "        eigenstates['energies'].append(f['eigenstates'][f'{i}']['energytotal'][()])\n",
    "        eigenstates['energies_err'].append(f['eigenstates'][f'{i}']['energytotal_err'][()])"
   ]
  },
  {
   "cell_type": "code",
   "execution_count": 18,
   "metadata": {},
   "outputs": [],
   "source": [
    "df = pd.DataFrame(eigenstates)"
   ]
  },
  {
   "cell_type": "code",
   "execution_count": 27,
   "metadata": {},
   "outputs": [
    {
     "data": {
      "text/plain": [
       "<ErrorbarContainer object of 3 artists>"
      ]
     },
     "execution_count": 27,
     "metadata": {},
     "output_type": "execute_result"
    },
    {
     "data": {
      "image/png": "[encoded data removed]",
      "text/plain": [
       "<Figure size 432x288 with 1 Axes>"
      ]
     },
     "metadata": {
      "needs_background": "light"
     },
     "output_type": "display_data"
    }
   ],
   "source": [
    "plt.errorbar(np.ones(len(df['state'])), df['energies'], yerr=df['energies_err'], marker='o', markersize=1, linewidth=0)"
   ]
  },
  {
   "cell_type": "code",
   "execution_count": null,
   "metadata": {},
   "outputs": [],
   "source": []
  }
 ],
 "metadata": {
  "kernelspec": {
   "display_name": "pyscf",
   "language": "python",
   "name": "python3"
  },
  "language_info": {
   "codemirror_mode": {
    "name": "ipython",
    "version": 3
   },
   "file_extension": ".py",
   "mimetype": "text/x-python",
   "name": "python",
   "nbconvert_exporter": "python",
   "pygments_lexer": "ipython3",
   "version": "3.9.13"
  }
 },
 "nbformat": 4,
 "nbformat_minor": 2
}
